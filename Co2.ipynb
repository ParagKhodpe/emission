{
 "cells": [
  {
   "cell_type": "markdown",
   "id": "9f6fef64",
   "metadata": {},
   "source": [
    "# Business Objective:\n",
    "\n",
    "## The Fundamental goal here is to model the CO2 emisson as funcation of several car engine features\n",
    "\n",
    "## Data Set Details: The file contains the data for this example Here the number of variables (columns) is 12, & the number of instance (rows) is  7385"
   ]
  },
  {
   "cell_type": "markdown",
   "id": "8034921a",
   "metadata": {},
   "source": [
    "#### Importing Libriaries"
   ]
  },
  {
   "cell_type": "code",
   "execution_count": 141,
   "id": "1dfe9d28",
   "metadata": {},
   "outputs": [],
   "source": [
    "import pandas as pd\n",
    "pd.set_option('display.max_column',None)\n",
    "pd.set_option('display.max_colwidth',None)\n",
    "import numpy as np\n",
    "import matplotlib.pyplot as plt\n",
    "import seaborn as sns\n",
    "from sklearn.preprocessing import LabelEncoder\n",
    "from sklearn.model_selection import train_test_split\n",
    "from sklearn.feature_selection import chi2\n",
    "import warnings\n",
    "warnings.filterwarnings('ignore')"
   ]
  },
  {
   "cell_type": "markdown",
   "id": "c56b6a0f",
   "metadata": {},
   "source": [
    "##### Load Dataset"
   ]
  },
  {
   "cell_type": "code",
   "execution_count": 142,
   "id": "141876c6",
   "metadata": {},
   "outputs": [
    {
     "data": {
      "text/html": [
       "<div>\n",
       "<style scoped>\n",
       "    .dataframe tbody tr th:only-of-type {\n",
       "        vertical-align: middle;\n",
       "    }\n",
       "\n",
       "    .dataframe tbody tr th {\n",
       "        vertical-align: top;\n",
       "    }\n",
       "\n",
       "    .dataframe thead th {\n",
       "        text-align: right;\n",
       "    }\n",
       "</style>\n",
       "<table border=\"1\" class=\"dataframe\">\n",
       "  <thead>\n",
       "    <tr style=\"text-align: right;\">\n",
       "      <th></th>\n",
       "      <th>make</th>\n",
       "      <th>model</th>\n",
       "      <th>vehicle_class</th>\n",
       "      <th>engine_size</th>\n",
       "      <th>cylinders</th>\n",
       "      <th>transmission</th>\n",
       "      <th>fuel_type</th>\n",
       "      <th>fuel_consumption_city</th>\n",
       "      <th>fuel_consumption_hwy</th>\n",
       "      <th>fuel_consumption_comb(l/100km)</th>\n",
       "      <th>fuel_consumption_comb(mpg)</th>\n",
       "      <th>co2_emissions</th>\n",
       "    </tr>\n",
       "  </thead>\n",
       "  <tbody>\n",
       "    <tr>\n",
       "      <th>0</th>\n",
       "      <td>ACURA</td>\n",
       "      <td>ILX</td>\n",
       "      <td>COMPACT</td>\n",
       "      <td>2.0</td>\n",
       "      <td>4</td>\n",
       "      <td>AS</td>\n",
       "      <td>Z</td>\n",
       "      <td>9.9</td>\n",
       "      <td>6.7</td>\n",
       "      <td>8.5</td>\n",
       "      <td>33</td>\n",
       "      <td>196</td>\n",
       "    </tr>\n",
       "    <tr>\n",
       "      <th>1</th>\n",
       "      <td>ACURA</td>\n",
       "      <td>ILX</td>\n",
       "      <td>COMPACT</td>\n",
       "      <td>2.4</td>\n",
       "      <td>4</td>\n",
       "      <td>M</td>\n",
       "      <td>Z</td>\n",
       "      <td>11.2</td>\n",
       "      <td>7.7</td>\n",
       "      <td>9.6</td>\n",
       "      <td>29</td>\n",
       "      <td>221</td>\n",
       "    </tr>\n",
       "    <tr>\n",
       "      <th>2</th>\n",
       "      <td>ACURA</td>\n",
       "      <td>ILX HYBRID</td>\n",
       "      <td>COMPACT</td>\n",
       "      <td>1.5</td>\n",
       "      <td>4</td>\n",
       "      <td>AV</td>\n",
       "      <td>Z</td>\n",
       "      <td>6.0</td>\n",
       "      <td>5.8</td>\n",
       "      <td>5.9</td>\n",
       "      <td>48</td>\n",
       "      <td>136</td>\n",
       "    </tr>\n",
       "    <tr>\n",
       "      <th>3</th>\n",
       "      <td>ACURA</td>\n",
       "      <td>MDX 4WD</td>\n",
       "      <td>SUV - SMALL</td>\n",
       "      <td>3.5</td>\n",
       "      <td>6</td>\n",
       "      <td>AS</td>\n",
       "      <td>Z</td>\n",
       "      <td>12.7</td>\n",
       "      <td>9.1</td>\n",
       "      <td>11.1</td>\n",
       "      <td>25</td>\n",
       "      <td>255</td>\n",
       "    </tr>\n",
       "    <tr>\n",
       "      <th>4</th>\n",
       "      <td>ACURA</td>\n",
       "      <td>RDX AWD</td>\n",
       "      <td>SUV - SMALL</td>\n",
       "      <td>3.5</td>\n",
       "      <td>6</td>\n",
       "      <td>AS</td>\n",
       "      <td>Z</td>\n",
       "      <td>12.1</td>\n",
       "      <td>8.7</td>\n",
       "      <td>10.6</td>\n",
       "      <td>27</td>\n",
       "      <td>244</td>\n",
       "    </tr>\n",
       "    <tr>\n",
       "      <th>...</th>\n",
       "      <td>...</td>\n",
       "      <td>...</td>\n",
       "      <td>...</td>\n",
       "      <td>...</td>\n",
       "      <td>...</td>\n",
       "      <td>...</td>\n",
       "      <td>...</td>\n",
       "      <td>...</td>\n",
       "      <td>...</td>\n",
       "      <td>...</td>\n",
       "      <td>...</td>\n",
       "      <td>...</td>\n",
       "    </tr>\n",
       "    <tr>\n",
       "      <th>7380</th>\n",
       "      <td>VOLVO</td>\n",
       "      <td>XC40 T5 AWD</td>\n",
       "      <td>SUV - SMALL</td>\n",
       "      <td>2.0</td>\n",
       "      <td>4</td>\n",
       "      <td>AS</td>\n",
       "      <td>Z</td>\n",
       "      <td>10.7</td>\n",
       "      <td>7.7</td>\n",
       "      <td>9.4</td>\n",
       "      <td>30</td>\n",
       "      <td>219</td>\n",
       "    </tr>\n",
       "    <tr>\n",
       "      <th>7381</th>\n",
       "      <td>VOLVO</td>\n",
       "      <td>XC60 T5 AWD</td>\n",
       "      <td>SUV - SMALL</td>\n",
       "      <td>2.0</td>\n",
       "      <td>4</td>\n",
       "      <td>AS</td>\n",
       "      <td>Z</td>\n",
       "      <td>11.2</td>\n",
       "      <td>8.3</td>\n",
       "      <td>9.9</td>\n",
       "      <td>29</td>\n",
       "      <td>232</td>\n",
       "    </tr>\n",
       "    <tr>\n",
       "      <th>7382</th>\n",
       "      <td>VOLVO</td>\n",
       "      <td>XC60 T6 AWD</td>\n",
       "      <td>SUV - SMALL</td>\n",
       "      <td>2.0</td>\n",
       "      <td>4</td>\n",
       "      <td>AS</td>\n",
       "      <td>Z</td>\n",
       "      <td>11.7</td>\n",
       "      <td>8.6</td>\n",
       "      <td>10.3</td>\n",
       "      <td>27</td>\n",
       "      <td>240</td>\n",
       "    </tr>\n",
       "    <tr>\n",
       "      <th>7383</th>\n",
       "      <td>VOLVO</td>\n",
       "      <td>XC90 T5 AWD</td>\n",
       "      <td>SUV - STANDARD</td>\n",
       "      <td>2.0</td>\n",
       "      <td>4</td>\n",
       "      <td>AS</td>\n",
       "      <td>Z</td>\n",
       "      <td>11.2</td>\n",
       "      <td>8.3</td>\n",
       "      <td>9.9</td>\n",
       "      <td>29</td>\n",
       "      <td>232</td>\n",
       "    </tr>\n",
       "    <tr>\n",
       "      <th>7384</th>\n",
       "      <td>VOLVO</td>\n",
       "      <td>XC90 T6 AWD</td>\n",
       "      <td>SUV - STANDARD</td>\n",
       "      <td>2.0</td>\n",
       "      <td>4</td>\n",
       "      <td>AS</td>\n",
       "      <td>Z</td>\n",
       "      <td>12.2</td>\n",
       "      <td>8.7</td>\n",
       "      <td>10.7</td>\n",
       "      <td>26</td>\n",
       "      <td>248</td>\n",
       "    </tr>\n",
       "  </tbody>\n",
       "</table>\n",
       "<p>7385 rows × 12 columns</p>\n",
       "</div>"
      ],
      "text/plain": [
       "       make        model   vehicle_class  engine_size  cylinders transmission  \\\n",
       "0     ACURA          ILX         COMPACT          2.0          4           AS   \n",
       "1     ACURA          ILX         COMPACT          2.4          4            M   \n",
       "2     ACURA   ILX HYBRID         COMPACT          1.5          4           AV   \n",
       "3     ACURA      MDX 4WD     SUV - SMALL          3.5          6           AS   \n",
       "4     ACURA      RDX AWD     SUV - SMALL          3.5          6           AS   \n",
       "...     ...          ...             ...          ...        ...          ...   \n",
       "7380  VOLVO  XC40 T5 AWD     SUV - SMALL          2.0          4           AS   \n",
       "7381  VOLVO  XC60 T5 AWD     SUV - SMALL          2.0          4           AS   \n",
       "7382  VOLVO  XC60 T6 AWD     SUV - SMALL          2.0          4           AS   \n",
       "7383  VOLVO  XC90 T5 AWD  SUV - STANDARD          2.0          4           AS   \n",
       "7384  VOLVO  XC90 T6 AWD  SUV - STANDARD          2.0          4           AS   \n",
       "\n",
       "     fuel_type  fuel_consumption_city  fuel_consumption_hwy  \\\n",
       "0            Z                    9.9                   6.7   \n",
       "1            Z                   11.2                   7.7   \n",
       "2            Z                    6.0                   5.8   \n",
       "3            Z                   12.7                   9.1   \n",
       "4            Z                   12.1                   8.7   \n",
       "...        ...                    ...                   ...   \n",
       "7380         Z                   10.7                   7.7   \n",
       "7381         Z                   11.2                   8.3   \n",
       "7382         Z                   11.7                   8.6   \n",
       "7383         Z                   11.2                   8.3   \n",
       "7384         Z                   12.2                   8.7   \n",
       "\n",
       "      fuel_consumption_comb(l/100km)  fuel_consumption_comb(mpg)  \\\n",
       "0                                8.5                          33   \n",
       "1                                9.6                          29   \n",
       "2                                5.9                          48   \n",
       "3                               11.1                          25   \n",
       "4                               10.6                          27   \n",
       "...                              ...                         ...   \n",
       "7380                             9.4                          30   \n",
       "7381                             9.9                          29   \n",
       "7382                            10.3                          27   \n",
       "7383                             9.9                          29   \n",
       "7384                            10.7                          26   \n",
       "\n",
       "      co2_emissions  \n",
       "0               196  \n",
       "1               221  \n",
       "2               136  \n",
       "3               255  \n",
       "4               244  \n",
       "...             ...  \n",
       "7380            219  \n",
       "7381            232  \n",
       "7382            240  \n",
       "7383            232  \n",
       "7384            248  \n",
       "\n",
       "[7385 rows x 12 columns]"
      ]
     },
     "execution_count": 142,
     "metadata": {},
     "output_type": "execute_result"
    }
   ],
   "source": [
    "df= pd.read_csv('co2_emissions (1).csv')\n",
    "df"
   ]
  },
  {
   "cell_type": "markdown",
   "id": "dad2f775",
   "metadata": {},
   "source": [
    "### EDA"
   ]
  },
  {
   "cell_type": "markdown",
   "id": "fb475d8f",
   "metadata": {},
   "source": [
    "#### Summary if the dataset"
   ]
  },
  {
   "cell_type": "code",
   "execution_count": 143,
   "id": "b02024ff",
   "metadata": {},
   "outputs": [
    {
     "data": {
      "text/html": [
       "<div>\n",
       "<style scoped>\n",
       "    .dataframe tbody tr th:only-of-type {\n",
       "        vertical-align: middle;\n",
       "    }\n",
       "\n",
       "    .dataframe tbody tr th {\n",
       "        vertical-align: top;\n",
       "    }\n",
       "\n",
       "    .dataframe thead th {\n",
       "        text-align: right;\n",
       "    }\n",
       "</style>\n",
       "<table border=\"1\" class=\"dataframe\">\n",
       "  <thead>\n",
       "    <tr style=\"text-align: right;\">\n",
       "      <th></th>\n",
       "      <th>engine_size</th>\n",
       "      <th>cylinders</th>\n",
       "      <th>fuel_consumption_city</th>\n",
       "      <th>fuel_consumption_hwy</th>\n",
       "      <th>fuel_consumption_comb(l/100km)</th>\n",
       "      <th>fuel_consumption_comb(mpg)</th>\n",
       "      <th>co2_emissions</th>\n",
       "    </tr>\n",
       "  </thead>\n",
       "  <tbody>\n",
       "    <tr>\n",
       "      <th>count</th>\n",
       "      <td>7385.000000</td>\n",
       "      <td>7385.000000</td>\n",
       "      <td>7385.000000</td>\n",
       "      <td>7385.000000</td>\n",
       "      <td>7385.000000</td>\n",
       "      <td>7385.000000</td>\n",
       "      <td>7385.000000</td>\n",
       "    </tr>\n",
       "    <tr>\n",
       "      <th>mean</th>\n",
       "      <td>3.160068</td>\n",
       "      <td>5.615030</td>\n",
       "      <td>12.556534</td>\n",
       "      <td>9.041706</td>\n",
       "      <td>10.975071</td>\n",
       "      <td>27.481652</td>\n",
       "      <td>250.584699</td>\n",
       "    </tr>\n",
       "    <tr>\n",
       "      <th>std</th>\n",
       "      <td>1.354170</td>\n",
       "      <td>1.828307</td>\n",
       "      <td>3.500274</td>\n",
       "      <td>2.224456</td>\n",
       "      <td>2.892506</td>\n",
       "      <td>7.231879</td>\n",
       "      <td>58.512679</td>\n",
       "    </tr>\n",
       "    <tr>\n",
       "      <th>min</th>\n",
       "      <td>0.900000</td>\n",
       "      <td>3.000000</td>\n",
       "      <td>4.200000</td>\n",
       "      <td>4.000000</td>\n",
       "      <td>4.100000</td>\n",
       "      <td>11.000000</td>\n",
       "      <td>96.000000</td>\n",
       "    </tr>\n",
       "    <tr>\n",
       "      <th>25%</th>\n",
       "      <td>2.000000</td>\n",
       "      <td>4.000000</td>\n",
       "      <td>10.100000</td>\n",
       "      <td>7.500000</td>\n",
       "      <td>8.900000</td>\n",
       "      <td>22.000000</td>\n",
       "      <td>208.000000</td>\n",
       "    </tr>\n",
       "    <tr>\n",
       "      <th>50%</th>\n",
       "      <td>3.000000</td>\n",
       "      <td>6.000000</td>\n",
       "      <td>12.100000</td>\n",
       "      <td>8.700000</td>\n",
       "      <td>10.600000</td>\n",
       "      <td>27.000000</td>\n",
       "      <td>246.000000</td>\n",
       "    </tr>\n",
       "    <tr>\n",
       "      <th>75%</th>\n",
       "      <td>3.700000</td>\n",
       "      <td>6.000000</td>\n",
       "      <td>14.600000</td>\n",
       "      <td>10.200000</td>\n",
       "      <td>12.600000</td>\n",
       "      <td>32.000000</td>\n",
       "      <td>288.000000</td>\n",
       "    </tr>\n",
       "    <tr>\n",
       "      <th>max</th>\n",
       "      <td>8.400000</td>\n",
       "      <td>16.000000</td>\n",
       "      <td>30.600000</td>\n",
       "      <td>20.600000</td>\n",
       "      <td>26.100000</td>\n",
       "      <td>69.000000</td>\n",
       "      <td>522.000000</td>\n",
       "    </tr>\n",
       "  </tbody>\n",
       "</table>\n",
       "</div>"
      ],
      "text/plain": [
       "       engine_size    cylinders  fuel_consumption_city  fuel_consumption_hwy  \\\n",
       "count  7385.000000  7385.000000            7385.000000           7385.000000   \n",
       "mean      3.160068     5.615030              12.556534              9.041706   \n",
       "std       1.354170     1.828307               3.500274              2.224456   \n",
       "min       0.900000     3.000000               4.200000              4.000000   \n",
       "25%       2.000000     4.000000              10.100000              7.500000   \n",
       "50%       3.000000     6.000000              12.100000              8.700000   \n",
       "75%       3.700000     6.000000              14.600000             10.200000   \n",
       "max       8.400000    16.000000              30.600000             20.600000   \n",
       "\n",
       "       fuel_consumption_comb(l/100km)  fuel_consumption_comb(mpg)  \\\n",
       "count                     7385.000000                 7385.000000   \n",
       "mean                        10.975071                   27.481652   \n",
       "std                          2.892506                    7.231879   \n",
       "min                          4.100000                   11.000000   \n",
       "25%                          8.900000                   22.000000   \n",
       "50%                         10.600000                   27.000000   \n",
       "75%                         12.600000                   32.000000   \n",
       "max                         26.100000                   69.000000   \n",
       "\n",
       "       co2_emissions  \n",
       "count    7385.000000  \n",
       "mean      250.584699  \n",
       "std        58.512679  \n",
       "min        96.000000  \n",
       "25%       208.000000  \n",
       "50%       246.000000  \n",
       "75%       288.000000  \n",
       "max       522.000000  "
      ]
     },
     "execution_count": 143,
     "metadata": {},
     "output_type": "execute_result"
    }
   ],
   "source": [
    "df.describe()"
   ]
  },
  {
   "cell_type": "markdown",
   "id": "5362af89",
   "metadata": {},
   "source": [
    "### Getting basic info of the dataset"
   ]
  },
  {
   "cell_type": "code",
   "execution_count": 144,
   "id": "ede49037",
   "metadata": {},
   "outputs": [
    {
     "name": "stdout",
     "output_type": "stream",
     "text": [
      "<class 'pandas.core.frame.DataFrame'>\n",
      "RangeIndex: 7385 entries, 0 to 7384\n",
      "Data columns (total 12 columns):\n",
      " #   Column                          Non-Null Count  Dtype  \n",
      "---  ------                          --------------  -----  \n",
      " 0   make                            7385 non-null   object \n",
      " 1   model                           7385 non-null   object \n",
      " 2   vehicle_class                   7385 non-null   object \n",
      " 3   engine_size                     7385 non-null   float64\n",
      " 4   cylinders                       7385 non-null   int64  \n",
      " 5   transmission                    7385 non-null   object \n",
      " 6   fuel_type                       7385 non-null   object \n",
      " 7   fuel_consumption_city           7385 non-null   float64\n",
      " 8   fuel_consumption_hwy            7385 non-null   float64\n",
      " 9   fuel_consumption_comb(l/100km)  7385 non-null   float64\n",
      " 10  fuel_consumption_comb(mpg)      7385 non-null   int64  \n",
      " 11  co2_emissions                   7385 non-null   int64  \n",
      "dtypes: float64(4), int64(3), object(5)\n",
      "memory usage: 692.5+ KB\n"
     ]
    }
   ],
   "source": [
    "df.info()"
   ]
  },
  {
   "cell_type": "markdown",
   "id": "d0b81b59",
   "metadata": {},
   "source": [
    "#### Check for NULL values"
   ]
  },
  {
   "cell_type": "code",
   "execution_count": 145,
   "id": "50e41090",
   "metadata": {},
   "outputs": [
    {
     "data": {
      "text/plain": [
       "make                              0\n",
       "model                             0\n",
       "vehicle_class                     0\n",
       "engine_size                       0\n",
       "cylinders                         0\n",
       "transmission                      0\n",
       "fuel_type                         0\n",
       "fuel_consumption_city             0\n",
       "fuel_consumption_hwy              0\n",
       "fuel_consumption_comb(l/100km)    0\n",
       "fuel_consumption_comb(mpg)        0\n",
       "co2_emissions                     0\n",
       "dtype: int64"
      ]
     },
     "execution_count": 145,
     "metadata": {},
     "output_type": "execute_result"
    }
   ],
   "source": [
    "df.isnull().sum()"
   ]
  },
  {
   "cell_type": "markdown",
   "id": "e7f75b7e",
   "metadata": {},
   "source": [
    "•There are no Null Values in the Dataset , missing value imputation is not required``"
   ]
  },
  {
   "cell_type": "code",
   "execution_count": 146,
   "id": "b49122fd",
   "metadata": {},
   "outputs": [
    {
     "data": {
      "text/plain": [
       "(7385, 12)"
      ]
     },
     "execution_count": 146,
     "metadata": {},
     "output_type": "execute_result"
    }
   ],
   "source": [
    "df.shape"
   ]
  },
  {
   "cell_type": "code",
   "execution_count": 147,
   "id": "6074bb4c",
   "metadata": {},
   "outputs": [],
   "source": [
    "transmission_type ={'A:Automatic','AM:Automated manual','AS:Auto(select shift)','AV:Continuously variable', 'M:Manual'}\n",
    "fuel_type={\"X\" : 'Regular gasoline', \"Z\" : 'Premium gasoline', \"D\" : 'Diesel', \"E\" : 'Ethanol (E85)', \"N\" : 'Natural gas'}"
   ]
  },
  {
   "cell_type": "code",
   "execution_count": 148,
   "id": "25ae7234",
   "metadata": {},
   "outputs": [],
   "source": [
    "df['fuel_type']=df['fuel_type'].replace(fuel_type)\n",
    "df['transmission']=df['transmission'].replace(transmission_type)"
   ]
  },
  {
   "cell_type": "code",
   "execution_count": 149,
   "id": "0c1f81dd",
   "metadata": {},
   "outputs": [
    {
     "data": {
      "text/html": [
       "<div>\n",
       "<style scoped>\n",
       "    .dataframe tbody tr th:only-of-type {\n",
       "        vertical-align: middle;\n",
       "    }\n",
       "\n",
       "    .dataframe tbody tr th {\n",
       "        vertical-align: top;\n",
       "    }\n",
       "\n",
       "    .dataframe thead th {\n",
       "        text-align: right;\n",
       "    }\n",
       "</style>\n",
       "<table border=\"1\" class=\"dataframe\">\n",
       "  <thead>\n",
       "    <tr style=\"text-align: right;\">\n",
       "      <th></th>\n",
       "      <th>make</th>\n",
       "      <th>model</th>\n",
       "      <th>vehicle_class</th>\n",
       "      <th>engine_size</th>\n",
       "      <th>cylinders</th>\n",
       "      <th>transmission</th>\n",
       "      <th>fuel_type</th>\n",
       "      <th>fuel_consumption_city</th>\n",
       "      <th>fuel_consumption_hwy</th>\n",
       "      <th>fuel_consumption_comb(l/100km)</th>\n",
       "      <th>fuel_consumption_comb(mpg)</th>\n",
       "      <th>co2_emissions</th>\n",
       "    </tr>\n",
       "  </thead>\n",
       "  <tbody>\n",
       "    <tr>\n",
       "      <th>0</th>\n",
       "      <td>ACURA</td>\n",
       "      <td>ILX</td>\n",
       "      <td>COMPACT</td>\n",
       "      <td>2.0</td>\n",
       "      <td>4</td>\n",
       "      <td>AS</td>\n",
       "      <td>Premium gasoline</td>\n",
       "      <td>9.9</td>\n",
       "      <td>6.7</td>\n",
       "      <td>8.5</td>\n",
       "      <td>33</td>\n",
       "      <td>196</td>\n",
       "    </tr>\n",
       "    <tr>\n",
       "      <th>1</th>\n",
       "      <td>ACURA</td>\n",
       "      <td>ILX</td>\n",
       "      <td>COMPACT</td>\n",
       "      <td>2.4</td>\n",
       "      <td>4</td>\n",
       "      <td>M</td>\n",
       "      <td>Premium gasoline</td>\n",
       "      <td>11.2</td>\n",
       "      <td>7.7</td>\n",
       "      <td>9.6</td>\n",
       "      <td>29</td>\n",
       "      <td>221</td>\n",
       "    </tr>\n",
       "    <tr>\n",
       "      <th>2</th>\n",
       "      <td>ACURA</td>\n",
       "      <td>ILX HYBRID</td>\n",
       "      <td>COMPACT</td>\n",
       "      <td>1.5</td>\n",
       "      <td>4</td>\n",
       "      <td>AV</td>\n",
       "      <td>Premium gasoline</td>\n",
       "      <td>6.0</td>\n",
       "      <td>5.8</td>\n",
       "      <td>5.9</td>\n",
       "      <td>48</td>\n",
       "      <td>136</td>\n",
       "    </tr>\n",
       "    <tr>\n",
       "      <th>3</th>\n",
       "      <td>ACURA</td>\n",
       "      <td>MDX 4WD</td>\n",
       "      <td>SUV - SMALL</td>\n",
       "      <td>3.5</td>\n",
       "      <td>6</td>\n",
       "      <td>AS</td>\n",
       "      <td>Premium gasoline</td>\n",
       "      <td>12.7</td>\n",
       "      <td>9.1</td>\n",
       "      <td>11.1</td>\n",
       "      <td>25</td>\n",
       "      <td>255</td>\n",
       "    </tr>\n",
       "    <tr>\n",
       "      <th>4</th>\n",
       "      <td>ACURA</td>\n",
       "      <td>RDX AWD</td>\n",
       "      <td>SUV - SMALL</td>\n",
       "      <td>3.5</td>\n",
       "      <td>6</td>\n",
       "      <td>AS</td>\n",
       "      <td>Premium gasoline</td>\n",
       "      <td>12.1</td>\n",
       "      <td>8.7</td>\n",
       "      <td>10.6</td>\n",
       "      <td>27</td>\n",
       "      <td>244</td>\n",
       "    </tr>\n",
       "    <tr>\n",
       "      <th>5</th>\n",
       "      <td>ACURA</td>\n",
       "      <td>RLX</td>\n",
       "      <td>MID-SIZE</td>\n",
       "      <td>3.5</td>\n",
       "      <td>6</td>\n",
       "      <td>AS</td>\n",
       "      <td>Premium gasoline</td>\n",
       "      <td>11.9</td>\n",
       "      <td>7.7</td>\n",
       "      <td>10.0</td>\n",
       "      <td>28</td>\n",
       "      <td>230</td>\n",
       "    </tr>\n",
       "    <tr>\n",
       "      <th>6</th>\n",
       "      <td>ACURA</td>\n",
       "      <td>TL</td>\n",
       "      <td>MID-SIZE</td>\n",
       "      <td>3.5</td>\n",
       "      <td>6</td>\n",
       "      <td>AS</td>\n",
       "      <td>Premium gasoline</td>\n",
       "      <td>11.8</td>\n",
       "      <td>8.1</td>\n",
       "      <td>10.1</td>\n",
       "      <td>28</td>\n",
       "      <td>232</td>\n",
       "    </tr>\n",
       "  </tbody>\n",
       "</table>\n",
       "</div>"
      ],
      "text/plain": [
       "    make       model vehicle_class  engine_size  cylinders transmission  \\\n",
       "0  ACURA         ILX       COMPACT          2.0          4           AS   \n",
       "1  ACURA         ILX       COMPACT          2.4          4            M   \n",
       "2  ACURA  ILX HYBRID       COMPACT          1.5          4           AV   \n",
       "3  ACURA     MDX 4WD   SUV - SMALL          3.5          6           AS   \n",
       "4  ACURA     RDX AWD   SUV - SMALL          3.5          6           AS   \n",
       "5  ACURA         RLX      MID-SIZE          3.5          6           AS   \n",
       "6  ACURA          TL      MID-SIZE          3.5          6           AS   \n",
       "\n",
       "          fuel_type  fuel_consumption_city  fuel_consumption_hwy  \\\n",
       "0  Premium gasoline                    9.9                   6.7   \n",
       "1  Premium gasoline                   11.2                   7.7   \n",
       "2  Premium gasoline                    6.0                   5.8   \n",
       "3  Premium gasoline                   12.7                   9.1   \n",
       "4  Premium gasoline                   12.1                   8.7   \n",
       "5  Premium gasoline                   11.9                   7.7   \n",
       "6  Premium gasoline                   11.8                   8.1   \n",
       "\n",
       "   fuel_consumption_comb(l/100km)  fuel_consumption_comb(mpg)  co2_emissions  \n",
       "0                             8.5                          33            196  \n",
       "1                             9.6                          29            221  \n",
       "2                             5.9                          48            136  \n",
       "3                            11.1                          25            255  \n",
       "4                            10.6                          27            244  \n",
       "5                            10.0                          28            230  \n",
       "6                            10.1                          28            232  "
      ]
     },
     "execution_count": 149,
     "metadata": {},
     "output_type": "execute_result"
    }
   ],
   "source": [
    "df.head(7)"
   ]
  },
  {
   "cell_type": "code",
   "execution_count": 150,
   "id": "3314d30a",
   "metadata": {},
   "outputs": [
    {
     "data": {
      "text/html": [
       "<div>\n",
       "<style scoped>\n",
       "    .dataframe tbody tr th:only-of-type {\n",
       "        vertical-align: middle;\n",
       "    }\n",
       "\n",
       "    .dataframe tbody tr th {\n",
       "        vertical-align: top;\n",
       "    }\n",
       "\n",
       "    .dataframe thead th {\n",
       "        text-align: right;\n",
       "    }\n",
       "</style>\n",
       "<table border=\"1\" class=\"dataframe\">\n",
       "  <thead>\n",
       "    <tr style=\"text-align: right;\">\n",
       "      <th></th>\n",
       "      <th>make</th>\n",
       "      <th>model</th>\n",
       "      <th>vehicle_class</th>\n",
       "      <th>transmission</th>\n",
       "      <th>fuel_type</th>\n",
       "    </tr>\n",
       "  </thead>\n",
       "  <tbody>\n",
       "    <tr>\n",
       "      <th>count</th>\n",
       "      <td>7385</td>\n",
       "      <td>7385</td>\n",
       "      <td>7385</td>\n",
       "      <td>7385</td>\n",
       "      <td>7385</td>\n",
       "    </tr>\n",
       "    <tr>\n",
       "      <th>unique</th>\n",
       "      <td>42</td>\n",
       "      <td>2053</td>\n",
       "      <td>16</td>\n",
       "      <td>5</td>\n",
       "      <td>5</td>\n",
       "    </tr>\n",
       "    <tr>\n",
       "      <th>top</th>\n",
       "      <td>FORD</td>\n",
       "      <td>F-150 FFV 4X4</td>\n",
       "      <td>SUV - SMALL</td>\n",
       "      <td>AS</td>\n",
       "      <td>Regular gasoline</td>\n",
       "    </tr>\n",
       "    <tr>\n",
       "      <th>freq</th>\n",
       "      <td>628</td>\n",
       "      <td>32</td>\n",
       "      <td>1217</td>\n",
       "      <td>3127</td>\n",
       "      <td>3637</td>\n",
       "    </tr>\n",
       "  </tbody>\n",
       "</table>\n",
       "</div>"
      ],
      "text/plain": [
       "        make          model vehicle_class transmission         fuel_type\n",
       "count   7385           7385          7385         7385              7385\n",
       "unique    42           2053            16            5                 5\n",
       "top     FORD  F-150 FFV 4X4   SUV - SMALL           AS  Regular gasoline\n",
       "freq     628             32          1217         3127              3637"
      ]
     },
     "execution_count": 150,
     "metadata": {},
     "output_type": "execute_result"
    }
   ],
   "source": [
    "df.describe(include=object)"
   ]
  },
  {
   "cell_type": "markdown",
   "id": "488b15d4",
   "metadata": {},
   "source": [
    "### We can observe that\n",
    "\n",
    "•The dataset has 7385 Rows and 12 Coloumns\n",
    "\n",
    "•The 4 Columns are of type 'Float'\n",
    "\n",
    "•The 3 Columns are of type 'Int'\n",
    "\n",
    "•The 5 Columns are of type 'Object'(Categorical)'\n",
    "\n",
    "•The average Co2 emissions across the dataset is 250.59 gm/Km\n",
    "\n",
    "•The Fuel consumption is found to be greater in city than highway\n",
    "\n",
    "•There are 42 different makers in the dataset , out of which Ford has the highest number of entries\n",
    "\n",
    "•There are 2053 different models in the dataset , out of which F-150 FFV 4X4 has highest entries\n",
    "\n",
    "•There are 16 different vehicle classes in the dataset , out of which SUV-SMALL has highest entries\n",
    "\n",
    "•There are 5 different transmission type in the dataset , out of which Auto(Select Shift) has highest entries\n",
    "\n",
    "•There are 5 different Fuel types in the dataset , out of which most of the cares run on Regular gasoline\n"
   ]
  },
  {
   "cell_type": "code",
   "execution_count": 151,
   "id": "e6cd99fc",
   "metadata": {},
   "outputs": [],
   "source": [
    "duplicate =co.duplicated().sum()"
   ]
  },
  {
   "cell_type": "code",
   "execution_count": 152,
   "id": "8e7c419e",
   "metadata": {},
   "outputs": [
    {
     "name": "stdout",
     "output_type": "stream",
     "text": [
      "The no of duplicate in this dataset are 1217\n"
     ]
    }
   ],
   "source": [
    "print('The no of duplicate in this dataset are {}'.format(duplicate))"
   ]
  },
  {
   "cell_type": "markdown",
   "id": "690382f9",
   "metadata": {},
   "source": [
    "### Dropping Duplicates using drop_duplicates\n"
   ]
  },
  {
   "cell_type": "code",
   "execution_count": 153,
   "id": "761b6043",
   "metadata": {},
   "outputs": [],
   "source": [
    "df.drop_duplicates(inplace=True)"
   ]
  },
  {
   "cell_type": "code",
   "execution_count": 154,
   "id": "64ae8493",
   "metadata": {},
   "outputs": [
    {
     "data": {
      "text/plain": [
       "(6273, 12)"
      ]
     },
     "execution_count": 154,
     "metadata": {},
     "output_type": "execute_result"
    }
   ],
   "source": [
    "df.shape"
   ]
  },
  {
   "cell_type": "code",
   "execution_count": 155,
   "id": "cae851de",
   "metadata": {},
   "outputs": [],
   "source": [
    "df.reset_index(inplace=True)"
   ]
  },
  {
   "cell_type": "code",
   "execution_count": 156,
   "id": "0d467834",
   "metadata": {},
   "outputs": [],
   "source": [
    "df.drop(['index'],inplace=True,axis=1)"
   ]
  },
  {
   "cell_type": "markdown",
   "id": "dc64a44d",
   "metadata": {},
   "source": [
    "### Seperating Numerical & Categorical Columns"
   ]
  },
  {
   "cell_type": "code",
   "execution_count": 157,
   "id": "0213d009",
   "metadata": {},
   "outputs": [],
   "source": [
    "categorical_col=[]\n",
    "numberical_col=[]\n",
    "for i in co.columns:\n",
    "    if co[i].dtype=='object':\n",
    "        categorical_col.append(i)\n",
    "    else:\n",
    "        numberical_col.append(i)"
   ]
  },
  {
   "cell_type": "code",
   "execution_count": 158,
   "id": "221b5a37",
   "metadata": {},
   "outputs": [
    {
     "data": {
      "text/plain": [
       "['transmission', 'fuel_type', 'Vehicle_Class_Type', 'make1']"
      ]
     },
     "execution_count": 158,
     "metadata": {},
     "output_type": "execute_result"
    }
   ],
   "source": [
    "categorical_col"
   ]
  },
  {
   "cell_type": "code",
   "execution_count": 159,
   "id": "7df8239f",
   "metadata": {},
   "outputs": [
    {
     "data": {
      "text/plain": [
       "['engine_size',\n",
       " 'cylinders',\n",
       " 'fuel_consumption_city',\n",
       " 'fuel_consumption_hwy',\n",
       " 'fuel_consumption_comb(l/100km)',\n",
       " 'fuel_consumption_comb(mpg)',\n",
       " 'co2_emissions']"
      ]
     },
     "execution_count": 159,
     "metadata": {},
     "output_type": "execute_result"
    }
   ],
   "source": [
    "numberical_col"
   ]
  },
  {
   "cell_type": "markdown",
   "id": "cea41442",
   "metadata": {},
   "source": [
    "## Visualization"
   ]
  },
  {
   "cell_type": "markdown",
   "id": "52f2e7a4",
   "metadata": {},
   "source": [
    "#### Univariate Analysis"
   ]
  },
  {
   "cell_type": "code",
   "execution_count": 160,
   "id": "36f228b4",
   "metadata": {},
   "outputs": [
    {
     "name": "stdout",
     "output_type": "stream",
     "text": [
      "Skewness-> 0.8109634973059867\n",
      "Kurtosis-> -0.15317073013177973\n"
     ]
    },
    {
     "data": {
      "image/png": "[encoded data removed]",
      "text/plain": [
       "<Figure size 640x480 with 1 Axes>"
      ]
     },
     "metadata": {},
     "output_type": "display_data"
    },
    {
     "name": "stdout",
     "output_type": "stream",
     "text": [
      "Skewness-> 1.106650710778432\n",
      "Kurtosis-> 1.4350759501372607\n"
     ]
    },
    {
     "data": {
      "image/png": "[encoded data removed]",
      "text/plain": [
       "<Figure size 640x480 with 1 Axes>"
      ]
     },
     "metadata": {},
     "output_type": "display_data"
    },
    {
     "name": "stdout",
     "output_type": "stream",
     "text": [
      "Skewness-> 0.841856275830459\n",
      "Kurtosis-> 1.204763947078427\n"
     ]
    },
    {
     "data": {
      "image/png": "[encoded data removed]",
      "text/plain": [
       "<Figure size 640x480 with 1 Axes>"
      ]
     },
     "metadata": {},
     "output_type": "display_data"
    },
    {
     "name": "stdout",
     "output_type": "stream",
     "text": [
      "Skewness-> 1.110217266974703\n",
      "Kurtosis-> 2.0054631690048454\n"
     ]
    },
    {
     "data": {
      "image/png": "[encoded data removed]",
      "text/plain": [
       "<Figure size 640x480 with 1 Axes>"
      ]
     },
     "metadata": {},
     "output_type": "display_data"
    },
    {
     "name": "stdout",
     "output_type": "stream",
     "text": [
      "Skewness-> 0.9264095868150038\n",
      "Kurtosis-> 1.4013798310237942\n"
     ]
    },
    {
     "data": {
      "image/png": "[encoded data removed]",
      "text/plain": [
       "<Figure size 640x480 with 1 Axes>"
      ]
     },
     "metadata": {},
     "output_type": "display_data"
    },
    {
     "name": "stdout",
     "output_type": "stream",
     "text": [
      "Skewness-> 0.9152769010295129\n",
      "Kurtosis-> 2.2885420634399143\n"
     ]
    },
    {
     "data": {
      "image/png": "[encoded data removed]",
      "text/plain": [
       "<Figure size 640x480 with 1 Axes>"
      ]
     },
     "metadata": {},
     "output_type": "display_data"
    },
    {
     "name": "stdout",
     "output_type": "stream",
     "text": [
      "Skewness-> 0.5588650833129282\n",
      "Kurtosis-> 0.44397799715675124\n"
     ]
    },
    {
     "data": {
      "image/png": "[encoded data removed]",
      "text/plain": [
       "<Figure size 640x480 with 1 Axes>"
      ]
     },
     "metadata": {},
     "output_type": "display_data"
    }
   ],
   "source": [
    "for i in numberical_col:\n",
    "    sns.histplot(df[i],kde=True)\n",
    "    print('Skewness->',df[i].skew())\n",
    "    print('Kurtosis->',df[i].kurt())\n",
    "    plt.show()"
   ]
  },
  {
   "cell_type": "markdown",
   "id": "cd71ce72",
   "metadata": {},
   "source": [
    "•'fuel_consumption_city', 'fuel_consumption_hwy','fuel_consumption_comb(l/100km)', \n",
    "'fuel_consumption_comb(mpg)', 'co2_emissions are Somewhat normally distributed with some Skewness\n",
    "\n",
    "•'engine_size','cylinders' are not normally distributed"
   ]
  },
  {
   "cell_type": "markdown",
   "id": "b5a2d1d2",
   "metadata": {},
   "source": [
    "### Categorical Col Visualization"
   ]
  },
  {
   "cell_type": "code",
   "execution_count": 161,
   "id": "bae2c9b0",
   "metadata": {},
   "outputs": [
    {
     "name": "stdout",
     "output_type": "stream",
     "text": [
      "Unique Values Index(['AS', 'A', 'M', 'AM', 'AV'], dtype='object')\n",
      "Counts [2592 1359 1000  465  393]\n",
      "***************************************\n",
      "Unique Values Index(['Regular gasoline', 'Premium gasoline', 'Ethanol (E85)', 'Diesel',\n",
      "       'Natural gas'],\n",
      "      dtype='object')\n",
      "Counts [2908 2530  223  147    1]\n",
      "***************************************\n",
      "Unique Values Index(['sedan', 'hatchback', 'suv', 'truck'], dtype='object')\n",
      "Counts [1893 1645 1615  656]\n",
      "***************************************\n",
      "Unique Values Index(['General', 'Premium', 'Sports', 'Luxury'], dtype='object')\n",
      "Counts [2606 2568  485  150]\n",
      "***************************************\n"
     ]
    }
   ],
   "source": [
    "for i in categorical_col:\n",
    "    print(\"Unique Values\",co[i].value_counts().index)\n",
    "    print(\"Counts\",co[i].value_counts().values)\n",
    "    print(\"***************************************\")"
   ]
  },
  {
   "cell_type": "code",
   "execution_count": 162,
   "id": "80193129",
   "metadata": {},
   "outputs": [
    {
     "data": {
      "text/plain": [
       "['transmission', 'fuel_type', 'Vehicle_Class_Type', 'make1']"
      ]
     },
     "execution_count": 162,
     "metadata": {},
     "output_type": "execute_result"
    }
   ],
   "source": [
    "categorical_col"
   ]
  },
  {
   "cell_type": "code",
   "execution_count": 163,
   "id": "66f2277d",
   "metadata": {},
   "outputs": [
    {
     "data": {
      "image/png": "[encoded data removed]",
      "text/plain": [
       "<Figure size 1000x600 with 1 Axes>"
      ]
     },
     "metadata": {},
     "output_type": "display_data"
    },
    {
     "data": {
      "image/png": "[encoded data removed]",
      "text/plain": [
       "<Figure size 1000x600 with 1 Axes>"
      ]
     },
     "metadata": {},
     "output_type": "display_data"
    },
    {
     "data": {
      "image/png": "[encoded data removed]",
      "text/plain": [
       "<Figure size 1000x600 with 1 Axes>"
      ]
     },
     "metadata": {},
     "output_type": "display_data"
    }
   ],
   "source": [
    "for i in['vehicle_class','transmission', 'fuel_type']:\n",
    "    plt.figure(figsize=(10,6))\n",
    "    x=df[i].value_counts().index\n",
    "    y=df[i].value_counts().values\n",
    "    ax=sns.barplot(y=x,x=y)\n",
    "    for j,v in enumerate(df[i].value_counts().values):\n",
    "        ax.text(v,j,v)\n",
    "    ax.set_xlabel('Count')\n",
    "    ax.set_ylabel(i)\n",
    "    plt.title(i)\n",
    "    plt.show()"
   ]
  },
  {
   "cell_type": "markdown",
   "id": "c1128553",
   "metadata": {},
   "source": [
    "•There are 16 different vehicle classes in the dataset , out of which SUV-SMALL has highest entries(959)\n",
    "\n",
    "•There are 5 different transmission type in the dataset , most of the cars are Automatic(Select Shift) type (2633)\n",
    "\n",
    "•There are 5 different Fuel types in the dataset , out of which most of the cars run on Regular gasoline(2869)"
   ]
  },
  {
   "cell_type": "code",
   "execution_count": 164,
   "id": "e7bf5158",
   "metadata": {},
   "outputs": [
    {
     "ename": "KeyError",
     "evalue": "'make'",
     "output_type": "error",
     "traceback": [
      "\u001b[1;31m---------------------------------------------------------------------------\u001b[0m",
      "\u001b[1;31mKeyError\u001b[0m                                  Traceback (most recent call last)",
      "Cell \u001b[1;32mIn[164], line 1\u001b[0m\n\u001b[1;32m----> 1\u001b[0m grouped_dt \u001b[38;5;241m=\u001b[39mco\u001b[38;5;241m.\u001b[39mgroupby([\u001b[38;5;124m'\u001b[39m\u001b[38;5;124mmake\u001b[39m\u001b[38;5;124m'\u001b[39m,\u001b[38;5;124m'\u001b[39m\u001b[38;5;124mvehicle_class\u001b[39m\u001b[38;5;124m'\u001b[39m])\n",
      "File \u001b[1;32m~\\anaconda3\\Lib\\site-packages\\pandas\\core\\frame.py:8402\u001b[0m, in \u001b[0;36mDataFrame.groupby\u001b[1;34m(self, by, axis, level, as_index, sort, group_keys, squeeze, observed, dropna)\u001b[0m\n\u001b[0;32m   8399\u001b[0m     \u001b[38;5;28;01mraise\u001b[39;00m \u001b[38;5;167;01mTypeError\u001b[39;00m(\u001b[38;5;124m\"\u001b[39m\u001b[38;5;124mYou have to supply one of \u001b[39m\u001b[38;5;124m'\u001b[39m\u001b[38;5;124mby\u001b[39m\u001b[38;5;124m'\u001b[39m\u001b[38;5;124m and \u001b[39m\u001b[38;5;124m'\u001b[39m\u001b[38;5;124mlevel\u001b[39m\u001b[38;5;124m'\u001b[39m\u001b[38;5;124m\"\u001b[39m)\n\u001b[0;32m   8400\u001b[0m axis \u001b[38;5;241m=\u001b[39m \u001b[38;5;28mself\u001b[39m\u001b[38;5;241m.\u001b[39m_get_axis_number(axis)\n\u001b[1;32m-> 8402\u001b[0m \u001b[38;5;28;01mreturn\u001b[39;00m DataFrameGroupBy(\n\u001b[0;32m   8403\u001b[0m     obj\u001b[38;5;241m=\u001b[39m\u001b[38;5;28mself\u001b[39m,\n\u001b[0;32m   8404\u001b[0m     keys\u001b[38;5;241m=\u001b[39mby,\n\u001b[0;32m   8405\u001b[0m     axis\u001b[38;5;241m=\u001b[39maxis,\n\u001b[0;32m   8406\u001b[0m     level\u001b[38;5;241m=\u001b[39mlevel,\n\u001b[0;32m   8407\u001b[0m     as_index\u001b[38;5;241m=\u001b[39mas_index,\n\u001b[0;32m   8408\u001b[0m     sort\u001b[38;5;241m=\u001b[39msort,\n\u001b[0;32m   8409\u001b[0m     group_keys\u001b[38;5;241m=\u001b[39mgroup_keys,\n\u001b[0;32m   8410\u001b[0m     squeeze\u001b[38;5;241m=\u001b[39msqueeze,\n\u001b[0;32m   8411\u001b[0m     observed\u001b[38;5;241m=\u001b[39mobserved,\n\u001b[0;32m   8412\u001b[0m     dropna\u001b[38;5;241m=\u001b[39mdropna,\n\u001b[0;32m   8413\u001b[0m )\n",
      "File \u001b[1;32m~\\anaconda3\\Lib\\site-packages\\pandas\\core\\groupby\\groupby.py:965\u001b[0m, in \u001b[0;36mGroupBy.__init__\u001b[1;34m(self, obj, keys, axis, level, grouper, exclusions, selection, as_index, sort, group_keys, squeeze, observed, mutated, dropna)\u001b[0m\n\u001b[0;32m    962\u001b[0m \u001b[38;5;28;01mif\u001b[39;00m grouper \u001b[38;5;129;01mis\u001b[39;00m \u001b[38;5;28;01mNone\u001b[39;00m:\n\u001b[0;32m    963\u001b[0m     \u001b[38;5;28;01mfrom\u001b[39;00m \u001b[38;5;21;01mpandas\u001b[39;00m\u001b[38;5;21;01m.\u001b[39;00m\u001b[38;5;21;01mcore\u001b[39;00m\u001b[38;5;21;01m.\u001b[39;00m\u001b[38;5;21;01mgroupby\u001b[39;00m\u001b[38;5;21;01m.\u001b[39;00m\u001b[38;5;21;01mgrouper\u001b[39;00m \u001b[38;5;28;01mimport\u001b[39;00m get_grouper\n\u001b[1;32m--> 965\u001b[0m     grouper, exclusions, obj \u001b[38;5;241m=\u001b[39m get_grouper(\n\u001b[0;32m    966\u001b[0m         obj,\n\u001b[0;32m    967\u001b[0m         keys,\n\u001b[0;32m    968\u001b[0m         axis\u001b[38;5;241m=\u001b[39maxis,\n\u001b[0;32m    969\u001b[0m         level\u001b[38;5;241m=\u001b[39mlevel,\n\u001b[0;32m    970\u001b[0m         sort\u001b[38;5;241m=\u001b[39msort,\n\u001b[0;32m    971\u001b[0m         observed\u001b[38;5;241m=\u001b[39mobserved,\n\u001b[0;32m    972\u001b[0m         mutated\u001b[38;5;241m=\u001b[39m\u001b[38;5;28mself\u001b[39m\u001b[38;5;241m.\u001b[39mmutated,\n\u001b[0;32m    973\u001b[0m         dropna\u001b[38;5;241m=\u001b[39m\u001b[38;5;28mself\u001b[39m\u001b[38;5;241m.\u001b[39mdropna,\n\u001b[0;32m    974\u001b[0m     )\n\u001b[0;32m    976\u001b[0m \u001b[38;5;28mself\u001b[39m\u001b[38;5;241m.\u001b[39mobj \u001b[38;5;241m=\u001b[39m obj\n\u001b[0;32m    977\u001b[0m \u001b[38;5;28mself\u001b[39m\u001b[38;5;241m.\u001b[39maxis \u001b[38;5;241m=\u001b[39m obj\u001b[38;5;241m.\u001b[39m_get_axis_number(axis)\n",
      "File \u001b[1;32m~\\anaconda3\\Lib\\site-packages\\pandas\\core\\groupby\\grouper.py:888\u001b[0m, in \u001b[0;36mget_grouper\u001b[1;34m(obj, key, axis, level, sort, observed, mutated, validate, dropna)\u001b[0m\n\u001b[0;32m    886\u001b[0m         in_axis, level, gpr \u001b[38;5;241m=\u001b[39m \u001b[38;5;28;01mFalse\u001b[39;00m, gpr, \u001b[38;5;28;01mNone\u001b[39;00m\n\u001b[0;32m    887\u001b[0m     \u001b[38;5;28;01melse\u001b[39;00m:\n\u001b[1;32m--> 888\u001b[0m         \u001b[38;5;28;01mraise\u001b[39;00m \u001b[38;5;167;01mKeyError\u001b[39;00m(gpr)\n\u001b[0;32m    889\u001b[0m \u001b[38;5;28;01melif\u001b[39;00m \u001b[38;5;28misinstance\u001b[39m(gpr, Grouper) \u001b[38;5;129;01mand\u001b[39;00m gpr\u001b[38;5;241m.\u001b[39mkey \u001b[38;5;129;01mis\u001b[39;00m \u001b[38;5;129;01mnot\u001b[39;00m \u001b[38;5;28;01mNone\u001b[39;00m:\n\u001b[0;32m    890\u001b[0m     \u001b[38;5;66;03m# Add key to exclusions\u001b[39;00m\n\u001b[0;32m    891\u001b[0m     exclusions\u001b[38;5;241m.\u001b[39madd(gpr\u001b[38;5;241m.\u001b[39mkey)\n",
      "\u001b[1;31mKeyError\u001b[0m: 'make'"
     ]
    }
   ],
   "source": [
    "grouped_dt =co.groupby(['make','vehicle_class'])"
   ]
  },
  {
   "cell_type": "code",
   "execution_count": null,
   "id": "4c54fc68",
   "metadata": {},
   "outputs": [],
   "source": [
    "make_list=[]\n",
    "vehicle_list=[]\n",
    "count_list=[]\n",
    "for x,y in grouped_dt:\n",
    "    make_list.append(x[0])\n",
    "    vehicle_list.append(x[1])\n",
    "    count_list.append(y.aggregate(np.size)['make'])"
   ]
  },
  {
   "cell_type": "code",
   "execution_count": null,
   "id": "049d793c",
   "metadata": {},
   "outputs": [],
   "source": [
    "grp_count=pd.DataFrame({'make':make_list,'vehicle':vehicle_list,'count':count_list})\n",
    "grp_count"
   ]
  },
  {
   "cell_type": "code",
   "execution_count": null,
   "id": "bc130a72",
   "metadata": {},
   "outputs": [],
   "source": [
    "grp_count.nunique()"
   ]
  },
  {
   "cell_type": "markdown",
   "id": "05054798",
   "metadata": {},
   "source": [
    "•While plotting the count for each vehicle class across each maker , we found out that SRT,Bugati and SMART makers have only one vehicle class type with less than 10 entries\n",
    "\n",
    "•While Chervolet makers have different variants in the vehicle type with 13 types\n",
    "\n",
    "•The distribution across few makers like are not evenly distributed \"Jeep\",\"RAM\" and \"Porchse\""
   ]
  },
  {
   "cell_type": "code",
   "execution_count": null,
   "id": "294d81ec",
   "metadata": {},
   "outputs": [],
   "source": [
    "for i in numberical_col:\n",
    "    sns.scatterplot(x=df[i],y=df['co2_emissions'])\n",
    "    plt.show()"
   ]
  },
  {
   "cell_type": "code",
   "execution_count": null,
   "id": "cdbd528b",
   "metadata": {},
   "outputs": [],
   "source": [
    "plt.figure(figsize=(20,5))\n",
    "co\n",
    "co.groupby('fuel_type')['co2_emissions'].mean().sort_values(ascending=False).plot(kind='bar',color='g')\n",
    "\n",
    "plt.title('Fuel type wrt CO2 emission', fontsize=25)\n",
    "plt.xlabel('Fuel Type', fontsize=20)\n",
    "plt.ylabel('Co2 emission', fontsize=20)"
   ]
  },
  {
   "cell_type": "code",
   "execution_count": null,
   "id": "fc60f6c6",
   "metadata": {},
   "outputs": [],
   "source": [
    "sns.pairplot(df)"
   ]
  },
  {
   "cell_type": "code",
   "execution_count": null,
   "id": "e7121fe1",
   "metadata": {},
   "outputs": [],
   "source": [
    "#Co2 has linear relationship with engine size and fuel consumption\n",
    "#As engine size increases fuel consupmtion increases and no of cylnders increases,co2 emission increases\n",
    "#Fuel consumption comb has perfect correlation with fuel consumption highway and fuel consumption city\n",
    "#Fuel type Ethanol is more in co2 emission and the same fuel type is mostly used in city and highway hence co2 emission would be more\n",
    "##As cylnders size increases Co2 emission increases\n",
    "#Co2 emission is more for fuel type Ethanol\n",
    "#Fuel consumption comb has inverse inverse relationship with co2 emission\n",
    "#Co2 emission is generally increasing with increase in remaining features except fuel consumption comb"
   ]
  },
  {
   "cell_type": "code",
   "execution_count": null,
   "id": "5d2f7e2d",
   "metadata": {},
   "outputs": [],
   "source": [
    "sns.heatmap(df.corr(),annot=True)"
   ]
  },
  {
   "cell_type": "markdown",
   "id": "cfb0b0c4",
   "metadata": {},
   "source": [
    "•co2_emission has high positive correlation with fuel_consumption_comb(0.92) and fuel_consumption_city(0.92)\n",
    "\n",
    "•fuel consumption highway and city are also strongly correlated"
   ]
  },
  {
   "cell_type": "code",
   "execution_count": null,
   "id": "93f00993",
   "metadata": {
    "scrolled": true
   },
   "outputs": [],
   "source": [
    "print('Overall Average Co2_Emission(gm/kg)'\n",
    "      ,df['co2_emissions'].mean())"
   ]
  },
  {
   "cell_type": "markdown",
   "id": "2f39b8a9",
   "metadata": {},
   "source": [
    "### Categorical Data V/S Target Variable"
   ]
  },
  {
   "cell_type": "code",
   "execution_count": null,
   "id": "f5e286c7",
   "metadata": {},
   "outputs": [],
   "source": [
    "for i in categorical_col:\n",
    "    plt.figure(figsize=(10,7))\n",
    "    gruoped_dt= co.groupby(i)\n",
    "    make_list=[]\n",
    "    count_list=[]\n",
    "    for x,y in gruoped_dt:\n",
    "        make_list.append(x)\n",
    "        count_list.append(np.round(y.aggregate(np.mean)['co2_emissions'],2))\n",
    "        grp_count=pd.DataFrame({i:make_list,'Average Emissions(gm/kg)':count_list})\n",
    "        grp_count=grp_count.sort_values(by='Average Emissions(gm/kg)',ascending=False).reset_index(drop=True)\n",
    "    ax=sns.barplot(x='Average Emissions(gm/kg)',y=i,data=grp_count.head(10))\n",
    "    for j,v in enumerate(grp_count['Average Emissions(gm/kg)'].head(10).values):\n",
    "        ax.text(v,j,v)\n",
    "    ax.set_xlabel('Average Emissions(gm/kg)')\n",
    "    ax.set_ylabel(i)\n",
    "    plt.title(i)\n",
    "    plt.show()"
   ]
  },
  {
   "cell_type": "markdown",
   "id": "668392a2",
   "metadata": {},
   "source": [
    "→ From the above categorical plots ,we see bugatti being highest average co2_emissions among makers\n",
    "\n",
    "→we see Chiron beign highes average co2_emission among Model\n",
    "\n",
    "→we see Van- Passenger has highest average co2_emission among vehicle class, i.e. begger the vehicle,higher the co2_emissions\n",
    "\n",
    "→we see automatic transformation types has the highest average co2_emission among all types\n",
    "\n",
    "→cars using Ethonal has highest co2_emissions\n",
    "\n",
    "→we see that only one car used Natural gas in the whole dataset\n",
    "\n",
    "→co2_emission is positively Skewed, which implies thst the co2_emission are lower than the average emission rate"
   ]
  },
  {
   "cell_type": "markdown",
   "id": "b790f97d",
   "metadata": {},
   "source": [
    "## Bivariate analysis Variation of input Feature V/S Target Variable"
   ]
  },
  {
   "cell_type": "code",
   "execution_count": null,
   "id": "c14e391b",
   "metadata": {},
   "outputs": [],
   "source": [
    "df['Vehicle_Class_Type'] = df['vehicle_class'].replace(['COMPACT', 'MINICOMPACT', 'SUBCOMPACT'],\n",
    "                                                      'hatchback')"
   ]
  },
  {
   "cell_type": "code",
   "execution_count": null,
   "id": "d02024dd",
   "metadata": {},
   "outputs": [],
   "source": [
    "df['Vehicle_Class_Type'] = df['Vehicle_Class_Type'].replace(['MID-SIZE', 'TWO-SEATER', 'FULL-SIZE', 'STATION WAGON - SMALL',\n",
    "                                                         'STATION WAGON - MID-SIZE'],\n",
    "                                                         'sedan')"
   ]
  },
  {
   "cell_type": "code",
   "execution_count": null,
   "id": "6fa0caf0",
   "metadata": {},
   "outputs": [],
   "source": [
    "df['Vehicle_Class_Type'] = df['Vehicle_Class_Type'].replace(['SUV - SMALL', 'SUV - STANDARD', 'MINIVAN'],\n",
    "                                                         'suv')"
   ]
  },
  {
   "cell_type": "code",
   "execution_count": null,
   "id": "69719a86",
   "metadata": {},
   "outputs": [],
   "source": [
    "df['Vehicle_Class_Type'] = df['Vehicle_Class_Type'].replace(['VAN - CARGO', 'VAN - PASSENGER', 'PICKUP TRUCK - STANDARD', 'SPECIAL PURPOSE VEHICLE',\n",
    "                                                         'PICKUP TRUCK - SMALL'],\n",
    "                                                         'truck')"
   ]
  },
  {
   "cell_type": "code",
   "execution_count": null,
   "id": "6b45c39e",
   "metadata": {},
   "outputs": [],
   "source": [
    "df['Vehicle_Class_Type'].unique()"
   ]
  },
  {
   "cell_type": "code",
   "execution_count": null,
   "id": "e9b70d1c",
   "metadata": {},
   "outputs": [],
   "source": [
    "df=df.drop(['vehicle_class'],axis=1)"
   ]
  },
  {
   "cell_type": "code",
   "execution_count": null,
   "id": "9b254624",
   "metadata": {},
   "outputs": [],
   "source": [
    "co.groupby('Vehicle_Class_Type')['co2_emissions'].mean().sort_values(ascending=False).plot(kind='bar',color='g')\n",
    "plt.title('Fuel type wrt CO2 Emission',fontsize=24)\n",
    "plt.xlabel('Vehicle_Class_Type',fontsize=21)\n",
    "plt.ylabel('co2 Emission',fontsize=21)\n",
    "plt.figure(figsize=(21,6))"
   ]
  },
  {
   "cell_type": "markdown",
   "id": "3417eb88",
   "metadata": {},
   "source": [
    "## →Trucks are more in Co2 Emissions"
   ]
  },
  {
   "cell_type": "code",
   "execution_count": null,
   "id": "cb09b222",
   "metadata": {},
   "outputs": [],
   "source": [
    "df['make'].nunique()"
   ]
  },
  {
   "cell_type": "code",
   "execution_count": null,
   "id": "dd533cfa",
   "metadata": {},
   "outputs": [],
   "source": [
    "df['make1'] = df['make'].replace(['BUGATTI', 'PORSCHE', 'MASERATI', 'ASTON MARTIN', 'LAMBORGHINI',\n",
    "                                                       'JAGUAR','SRT'],\n",
    "                                                      'Sports')"
   ]
  },
  {
   "cell_type": "code",
   "execution_count": null,
   "id": "3d04cb59",
   "metadata": {},
   "outputs": [],
   "source": [
    "df['make1']=df['make1'].replace(['ALFA ROMEO','AUDI','BMW',\n",
    "                                 'BUICK','CADILLAC','CHRYSLER','DODGE','GMC','INFINITI','JEEP','LAND ROVER',\n",
    "                                 'LEXUS','MERCEDES-BENZ','MINI','SMART','VOLVO'],\n",
    "                               'Premium')"
   ]
  },
  {
   "cell_type": "code",
   "execution_count": null,
   "id": "240fcce2",
   "metadata": {},
   "outputs": [],
   "source": [
    "df['make1'] = df['make1'].replace(['ACURA', 'BENTLEY', 'LINCOLN', 'ROLLS-ROYCE',\n",
    "                                                         'GENESIS'],\n",
    "                                                         'Luxury')"
   ]
  },
  {
   "cell_type": "code",
   "execution_count": null,
   "id": "096bf46e",
   "metadata": {},
   "outputs": [],
   "source": [
    "df['make1'] = df['make1'].replace(['CHEVROLET', 'FIAT', 'FORD', 'KIA',\n",
    "                                                         'HONDA', 'HYUNDAI', 'MAZDA', 'MITSUBISHI',\n",
    "                                                         'NISSAN', 'RAM', 'SCION', 'SUBARU', 'TOYOTA',\n",
    "                                                         'VOLKSWAGEN'],\n",
    "                                                         'General')"
   ]
  },
  {
   "cell_type": "code",
   "execution_count": null,
   "id": "944951d0",
   "metadata": {},
   "outputs": [],
   "source": [
    "df['make1'].unique()"
   ]
  },
  {
   "cell_type": "code",
   "execution_count": null,
   "id": "60a8233d",
   "metadata": {},
   "outputs": [],
   "source": [
    "df['make1'].value_counts()"
   ]
  },
  {
   "cell_type": "code",
   "execution_count": null,
   "id": "ee0f9c15",
   "metadata": {},
   "outputs": [],
   "source": [
    "df=df.drop(['make'],axis=1)"
   ]
  },
  {
   "cell_type": "code",
   "execution_count": null,
   "id": "5b356051",
   "metadata": {},
   "outputs": [],
   "source": [
    "df.head()"
   ]
  },
  {
   "cell_type": "code",
   "execution_count": null,
   "id": "7951100f",
   "metadata": {},
   "outputs": [],
   "source": [
    "for i in numberical_col:\n",
    "    sns.boxplot(data=df,x=i,y='fuel_type')\n",
    "    plt.show()"
   ]
  },
  {
   "cell_type": "code",
   "execution_count": null,
   "id": "570c5b6c",
   "metadata": {},
   "outputs": [],
   "source": [
    "dt_numberical= df.select_dtypes(include=np.number)"
   ]
  },
  {
   "cell_type": "code",
   "execution_count": null,
   "id": "52ef240a",
   "metadata": {},
   "outputs": [],
   "source": [
    "Q1=dt_numberical.quantile(0.25)\n",
    "Q3=dt_numberical.quantile(0.75)\n",
    "IQR=Q3-Q1"
   ]
  },
  {
   "cell_type": "code",
   "execution_count": null,
   "id": "43ef65a5",
   "metadata": {},
   "outputs": [],
   "source": [
    "outlier= pd.DataFrame((dt_numberical<(Q1-1.5*IQR))|(dt_numberical>(Q3+1.5*IQR)))"
   ]
  },
  {
   "cell_type": "code",
   "execution_count": null,
   "id": "248c802a",
   "metadata": {},
   "outputs": [],
   "source": [
    "df=df[~((df<(Q1-1.5*IQR))|(df>(Q3+1.5*IQR))).any(axis=1)]"
   ]
  },
  {
   "cell_type": "code",
   "execution_count": null,
   "id": "f39d6c83",
   "metadata": {},
   "outputs": [],
   "source": [
    "df.shape"
   ]
  },
  {
   "cell_type": "code",
   "execution_count": null,
   "id": "9477a13b",
   "metadata": {},
   "outputs": [],
   "source": [
    "df.reset_index(inplace=True)"
   ]
  },
  {
   "cell_type": "code",
   "execution_count": null,
   "id": "d0e94821",
   "metadata": {},
   "outputs": [],
   "source": [
    "df.drop(['index'],inplace=True,axis=1)"
   ]
  },
  {
   "cell_type": "code",
   "execution_count": 165,
   "id": "3cff41bd",
   "metadata": {},
   "outputs": [
    {
     "data": {
      "text/html": [
       "<div>\n",
       "<style scoped>\n",
       "    .dataframe tbody tr th:only-of-type {\n",
       "        vertical-align: middle;\n",
       "    }\n",
       "\n",
       "    .dataframe tbody tr th {\n",
       "        vertical-align: top;\n",
       "    }\n",
       "\n",
       "    .dataframe thead th {\n",
       "        text-align: right;\n",
       "    }\n",
       "</style>\n",
       "<table border=\"1\" class=\"dataframe\">\n",
       "  <thead>\n",
       "    <tr style=\"text-align: right;\">\n",
       "      <th></th>\n",
       "      <th>make</th>\n",
       "      <th>model</th>\n",
       "      <th>vehicle_class</th>\n",
       "      <th>engine_size</th>\n",
       "      <th>cylinders</th>\n",
       "      <th>transmission</th>\n",
       "      <th>fuel_type</th>\n",
       "      <th>fuel_consumption_city</th>\n",
       "      <th>fuel_consumption_hwy</th>\n",
       "      <th>fuel_consumption_comb(l/100km)</th>\n",
       "      <th>fuel_consumption_comb(mpg)</th>\n",
       "      <th>co2_emissions</th>\n",
       "    </tr>\n",
       "  </thead>\n",
       "  <tbody>\n",
       "    <tr>\n",
       "      <th>0</th>\n",
       "      <td>ACURA</td>\n",
       "      <td>ILX</td>\n",
       "      <td>COMPACT</td>\n",
       "      <td>2.0</td>\n",
       "      <td>4</td>\n",
       "      <td>AS</td>\n",
       "      <td>Premium gasoline</td>\n",
       "      <td>9.9</td>\n",
       "      <td>6.7</td>\n",
       "      <td>8.5</td>\n",
       "      <td>33</td>\n",
       "      <td>196</td>\n",
       "    </tr>\n",
       "    <tr>\n",
       "      <th>1</th>\n",
       "      <td>ACURA</td>\n",
       "      <td>ILX</td>\n",
       "      <td>COMPACT</td>\n",
       "      <td>2.4</td>\n",
       "      <td>4</td>\n",
       "      <td>M</td>\n",
       "      <td>Premium gasoline</td>\n",
       "      <td>11.2</td>\n",
       "      <td>7.7</td>\n",
       "      <td>9.6</td>\n",
       "      <td>29</td>\n",
       "      <td>221</td>\n",
       "    </tr>\n",
       "    <tr>\n",
       "      <th>2</th>\n",
       "      <td>ACURA</td>\n",
       "      <td>ILX HYBRID</td>\n",
       "      <td>COMPACT</td>\n",
       "      <td>1.5</td>\n",
       "      <td>4</td>\n",
       "      <td>AV</td>\n",
       "      <td>Premium gasoline</td>\n",
       "      <td>6.0</td>\n",
       "      <td>5.8</td>\n",
       "      <td>5.9</td>\n",
       "      <td>48</td>\n",
       "      <td>136</td>\n",
       "    </tr>\n",
       "    <tr>\n",
       "      <th>3</th>\n",
       "      <td>ACURA</td>\n",
       "      <td>MDX 4WD</td>\n",
       "      <td>SUV - SMALL</td>\n",
       "      <td>3.5</td>\n",
       "      <td>6</td>\n",
       "      <td>AS</td>\n",
       "      <td>Premium gasoline</td>\n",
       "      <td>12.7</td>\n",
       "      <td>9.1</td>\n",
       "      <td>11.1</td>\n",
       "      <td>25</td>\n",
       "      <td>255</td>\n",
       "    </tr>\n",
       "    <tr>\n",
       "      <th>4</th>\n",
       "      <td>ACURA</td>\n",
       "      <td>RDX AWD</td>\n",
       "      <td>SUV - SMALL</td>\n",
       "      <td>3.5</td>\n",
       "      <td>6</td>\n",
       "      <td>AS</td>\n",
       "      <td>Premium gasoline</td>\n",
       "      <td>12.1</td>\n",
       "      <td>8.7</td>\n",
       "      <td>10.6</td>\n",
       "      <td>27</td>\n",
       "      <td>244</td>\n",
       "    </tr>\n",
       "  </tbody>\n",
       "</table>\n",
       "</div>"
      ],
      "text/plain": [
       "    make       model vehicle_class  engine_size  cylinders transmission  \\\n",
       "0  ACURA         ILX       COMPACT          2.0          4           AS   \n",
       "1  ACURA         ILX       COMPACT          2.4          4            M   \n",
       "2  ACURA  ILX HYBRID       COMPACT          1.5          4           AV   \n",
       "3  ACURA     MDX 4WD   SUV - SMALL          3.5          6           AS   \n",
       "4  ACURA     RDX AWD   SUV - SMALL          3.5          6           AS   \n",
       "\n",
       "          fuel_type  fuel_consumption_city  fuel_consumption_hwy  \\\n",
       "0  Premium gasoline                    9.9                   6.7   \n",
       "1  Premium gasoline                   11.2                   7.7   \n",
       "2  Premium gasoline                    6.0                   5.8   \n",
       "3  Premium gasoline                   12.7                   9.1   \n",
       "4  Premium gasoline                   12.1                   8.7   \n",
       "\n",
       "   fuel_consumption_comb(l/100km)  fuel_consumption_comb(mpg)  co2_emissions  \n",
       "0                             8.5                          33            196  \n",
       "1                             9.6                          29            221  \n",
       "2                             5.9                          48            136  \n",
       "3                            11.1                          25            255  \n",
       "4                            10.6                          27            244  "
      ]
     },
     "execution_count": 165,
     "metadata": {},
     "output_type": "execute_result"
    }
   ],
   "source": [
    "df.head()"
   ]
  },
  {
   "cell_type": "code",
   "execution_count": 166,
   "id": "d570a03e",
   "metadata": {},
   "outputs": [
    {
     "data": {
      "text/html": [
       "<div>\n",
       "<style scoped>\n",
       "    .dataframe tbody tr th:only-of-type {\n",
       "        vertical-align: middle;\n",
       "    }\n",
       "\n",
       "    .dataframe tbody tr th {\n",
       "        vertical-align: top;\n",
       "    }\n",
       "\n",
       "    .dataframe thead th {\n",
       "        text-align: right;\n",
       "    }\n",
       "</style>\n",
       "<table border=\"1\" class=\"dataframe\">\n",
       "  <thead>\n",
       "    <tr style=\"text-align: right;\">\n",
       "      <th></th>\n",
       "      <th>make</th>\n",
       "      <th>model</th>\n",
       "      <th>vehicle_class</th>\n",
       "      <th>engine_size</th>\n",
       "      <th>cylinders</th>\n",
       "      <th>transmission</th>\n",
       "      <th>fuel_type</th>\n",
       "      <th>fuel_consumption_city</th>\n",
       "      <th>fuel_consumption_hwy</th>\n",
       "      <th>fuel_consumption_comb(l/100km)</th>\n",
       "      <th>fuel_consumption_comb(mpg)</th>\n",
       "      <th>co2_emissions</th>\n",
       "    </tr>\n",
       "  </thead>\n",
       "  <tbody>\n",
       "    <tr>\n",
       "      <th>0</th>\n",
       "      <td>ACURA</td>\n",
       "      <td>ILX</td>\n",
       "      <td>COMPACT</td>\n",
       "      <td>2.0</td>\n",
       "      <td>4</td>\n",
       "      <td>AS</td>\n",
       "      <td>Premium gasoline</td>\n",
       "      <td>9.9</td>\n",
       "      <td>6.7</td>\n",
       "      <td>8.5</td>\n",
       "      <td>33</td>\n",
       "      <td>196</td>\n",
       "    </tr>\n",
       "  </tbody>\n",
       "</table>\n",
       "</div>"
      ],
      "text/plain": [
       "    make model vehicle_class  engine_size  cylinders transmission  \\\n",
       "0  ACURA   ILX       COMPACT          2.0          4           AS   \n",
       "\n",
       "          fuel_type  fuel_consumption_city  fuel_consumption_hwy  \\\n",
       "0  Premium gasoline                    9.9                   6.7   \n",
       "\n",
       "   fuel_consumption_comb(l/100km)  fuel_consumption_comb(mpg)  co2_emissions  \n",
       "0                             8.5                          33            196  "
      ]
     },
     "execution_count": 166,
     "metadata": {},
     "output_type": "execute_result"
    }
   ],
   "source": [
    "df.head(1)"
   ]
  },
  {
   "cell_type": "code",
   "execution_count": 167,
   "id": "c8a7bfa4",
   "metadata": {},
   "outputs": [],
   "source": [
    "# Handle missing values if any\n",
    "df = df.dropna()\n"
   ]
  },
  {
   "cell_type": "code",
   "execution_count": 169,
   "id": "e3187f19",
   "metadata": {},
   "outputs": [],
   "source": [
    "# Convert categorical variables to numerical format if necessary\n",
    "df = pd.get_dummies(df, columns=['make', 'model', 'vehicle_class', 'transmission', 'fuel_type'])\n"
   ]
  },
  {
   "cell_type": "code",
   "execution_count": 170,
   "id": "14de94ad",
   "metadata": {},
   "outputs": [],
   "source": [
    "# Define feature variables (X) and target variable (y)\n",
    "X = df.drop(columns=['co2_emissions'])\n",
    "y = df['co2_emissions']"
   ]
  },
  {
   "cell_type": "code",
   "execution_count": 171,
   "id": "ceda06af",
   "metadata": {},
   "outputs": [],
   "source": [
    "from sklearn.model_selection import train_test_split\n",
    "from sklearn.linear_model import LinearRegression\n",
    "from sklearn.metrics import mean_squared_error, r2_score\n",
    "\n",
    "# Split the data into training and testing sets\n",
    "X_train, X_test, y_train, y_test = train_test_split(X, y, test_size=0.2, random_state=42)\n",
    "\n",
    "# Train a Linear Regression model\n",
    "model = LinearRegression()\n",
    "model.fit(X_train, y_train)\n",
    "\n",
    "# Predict on the test set\n",
    "y_pred = model.predict(X_test)"
   ]
  },
  {
   "cell_type": "code",
   "execution_count": 172,
   "id": "cf093d47",
   "metadata": {},
   "outputs": [
    {
     "name": "stdout",
     "output_type": "stream",
     "text": [
      "Mean Squared Error: 6.000667017619147e+18\n",
      "R-squared: -1674070966113075.2\n"
     ]
    }
   ],
   "source": [
    "# Evaluate the model\n",
    "mse = mean_squared_error(y_test, y_pred)\n",
    "r2 = r2_score(y_test, y_pred)\n",
    "\n",
    "print(f'Mean Squared Error: {mse}')\n",
    "print(f'R-squared: {r2}')"
   ]
  },
  {
   "cell_type": "code",
   "execution_count": null,
   "id": "c4cfbd02",
   "metadata": {},
   "outputs": [],
   "source": []
  }
 ],
 "metadata": {
  "kernelspec": {
   "display_name": "Python 3 (ipykernel)",
   "language": "python",
   "name": "python3"
  },
  "language_info": {
   "codemirror_mode": {
    "name": "ipython",
    "version": 3
   },
   "file_extension": ".py",
   "mimetype": "text/x-python",
   "name": "python",
   "nbconvert_exporter": "python",
   "pygments_lexer": "ipython3",
   "version": "3.11.4"
  }
 },
 "nbformat": 4,
 "nbformat_minor": 5
}
